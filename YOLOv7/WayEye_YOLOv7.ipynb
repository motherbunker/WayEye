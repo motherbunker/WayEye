{
  "nbformat": 4,
  "nbformat_minor": 0,
  "metadata": {
    "colab": {
      "provenance": []
    },
    "kernelspec": {
      "name": "python3",
      "display_name": "Python 3"
    },
    "language_info": {
      "name": "python"
    }
  },
  "cells": [
    {
      "cell_type": "markdown",
      "source": [
        "## **1 : Setup**\n",
        "\n",
        "Run the cell below to install YOLOv7 and WayEye's pre-trained YOLOv7 model."
      ],
      "metadata": {
        "id": "mFY4bO8A75AT"
      }
    },
    {
      "cell_type": "code",
      "execution_count": null,
      "metadata": {
        "id": "ldJga9zQWkTv"
      },
      "outputs": [],
      "source": [
        "!git clone https://github.com/WongKinYiu/yolov7 \n",
        "%cd yolov7\n",
        "!pip install -r requirements.txt\n",
        "%cd /content/yolov7\n",
        "!wget https://github.com/motherbunker/WayEye/releases/download/Test/best.pt"
      ]
    },
    {
      "cell_type": "markdown",
      "source": [
        "## **2 : Detect**\n",
        "\n",
        "Drag-and-drop any video/image files that you wish to perform object detection on into the file directory on the left. Replace '/content/yolov7/sample.jpg' in the cell below with the file path to that video/image file."
      ],
      "metadata": {
        "id": "25erc1Ir80bG"
      }
    },
    {
      "cell_type": "code",
      "source": [
        "!python detect.py --weights /content/yolov7/best.pt --conf 0.1 --source '/content/yolov7/BW-2095.jpeg'\n",
        "\n",
        "# Only detect specific class(es). Find the classId in 'data.yaml'\n",
        "# !python detect.py --weights \"your weights.pt\" --source \"video/image/stream\" --classes 0,1,2"
      ],
      "metadata": {
        "id": "phTUXlJEW2LT"
      },
      "execution_count": null,
      "outputs": []
    }
  ]
}