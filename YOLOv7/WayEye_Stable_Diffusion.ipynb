{
  "nbformat": 4,
  "nbformat_minor": 0,
  "metadata": {
    "colab": {
      "provenance": []
    },
    "kernelspec": {
      "name": "python3",
      "display_name": "Python 3"
    },
    "language_info": {
      "name": "python"
    },
    "accelerator": "GPU",
    "gpuClass": "standard"
  },
  "cells": [
    {
      "cell_type": "markdown",
      "source": [],
      "metadata": {
        "id": "tPk67LbgbyAu"
      }
    },
    {
      "cell_type": "code",
      "execution_count": null,
      "metadata": {
        "id": "GOsUqPeK4Knw"
      },
      "outputs": [],
      "source": [
        "# Install dependencies\n",
        "!pip install -q --upgrade diffusers transformers scipy ftfy huggingface_hub\n",
        "!git clone https://github.com/WongKinYiu/yolov7\n",
        "%cd yolov7\n",
        "!pip install -r requirements.txt\n",
        "%cd /content/yolov7\n",
        "!wget https://github.com/WongKinYiu/yolov7/releases/download/v0.1/yolov7_training.pt"
      ]
    },
    {
      "cell_type": "code",
      "source": [
        "# [2] Import modules\n",
        "\n",
        "import torch\n",
        "import os\n",
        "import glob\n",
        "from diffusers import StableDiffusionPipeline\n",
        "from huggingface_hub import notebook_login\n",
        "from IPython.display import Image, display"
      ],
      "metadata": {
        "id": "kvANfHT-4WZc"
      },
      "execution_count": 2,
      "outputs": []
    },
    {
      "cell_type": "code",
      "source": [
        "# [3] Create a folder for storing test dataset\n",
        "\n",
        "testsets = 'testsets'\n",
        "os.mkdir(testsets)"
      ],
      "metadata": {
        "id": "r8ixLtD24gQy"
      },
      "execution_count": 3,
      "outputs": []
    },
    {
      "cell_type": "code",
      "source": [
        "# [1] Log-in to Hugging Face\n",
        "\n",
        "notebook_login()"
      ],
      "metadata": {
        "id": "6nWi8M1x4i0s"
      },
      "execution_count": null,
      "outputs": []
    },
    {
      "cell_type": "code",
      "source": [
        "# [2] Prepare Stable Diffusion model\n",
        "\n",
        "model_id = \"runwayml/stable-diffusion-v1-5\"\n",
        "pipe = StableDiffusionPipeline.from_pretrained(model_id, torch_dtype=torch.float16, revision=\"fp16\")\n",
        "pipe = pipe.to(\"cuda\")"
      ],
      "metadata": {
        "id": "m6Bm_T4T4n_Y"
      },
      "execution_count": null,
      "outputs": []
    },
    {
      "cell_type": "code",
      "source": [
        "# [3] Generate test image\n",
        "\n",
        "prompt = \"mining equipment under the sea\" # <--- your prompt\n",
        "image = pipe(prompt).images[0]\n",
        "\n",
        "image_name = f\"{testsets}/test.png\"\n",
        "image.save(image_name)\n",
        "\n",
        "display(Image(filename=image_name, width=158, height=158))"
      ],
      "metadata": {
        "id": "HvmxC75ggZzR"
      },
      "execution_count": null,
      "outputs": []
    },
    {
      "cell_type": "code",
      "source": [
        "# [4] Prepare function to generate images en-masse and store them in a folder\n",
        "\n",
        "def generate_images(\n",
        "    prompt, \n",
        "    num_images_to_generate, \n",
        "    num_images_per_prompt,\n",
        "    guidance_scale=4,\n",
        "    output_dir=\"billboards\",\n",
        "    display_images=False,\n",
        "):\n",
        "\n",
        "    num_iterations = num_images_to_generate\n",
        "    os.makedirs(output_dir, exist_ok=True)\n",
        "\n",
        "    for i in range(num_iterations):\n",
        "        images = pipe(\n",
        "            prompt, num_images_to_generate=num_images_to_generate, guidance_scale=guidance_scale\n",
        "        )\n",
        "        for idx, image in enumerate(images.images):\n",
        "            image_name = f\"{output_dir}/billboard-{(i*num_images_per_prompt)+idx}.png\"\n",
        "            image.save(image_name)\n",
        "            if display_images:\n",
        "                display(Image(filename=image_name, width=128, height=128))"
      ],
      "metadata": {
        "id": "GlF3KuzYgy7d"
      },
      "execution_count": null,
      "outputs": []
    },
    {
      "cell_type": "code",
      "source": [
        "# [5] Generate and save images\n",
        "\n",
        "generate_images(\"billboard on a busy street in Indonesia\", 3, 1, guidance_scale=4, display_images=True)"
      ],
      "metadata": {
        "id": "IJDPH75Jg1Vm"
      },
      "execution_count": null,
      "outputs": []
    }
  ]
}